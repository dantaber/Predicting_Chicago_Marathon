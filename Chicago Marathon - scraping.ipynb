{
 "cells": [
  {
   "cell_type": "code",
   "execution_count": null,
   "metadata": {
    "collapsed": true
   },
   "outputs": [],
   "source": [
    "import requests\n",
    "import re\n",
    "import pandas as pd\n",
    "import time\n",
    "import os\n",
    "import sys\n",
    "import pickle\n",
    "from functools import reduce"
   ]
  },
  {
   "cell_type": "code",
   "execution_count": null,
   "metadata": {
    "collapsed": true
   },
   "outputs": [],
   "source": [
    "sys.path.append(\"/Library/Frameworks/Python.framework/Versions/2.7/lib/python2.7/site-packages\")"
   ]
  },
  {
   "cell_type": "code",
   "execution_count": null,
   "metadata": {
    "collapsed": true
   },
   "outputs": [],
   "source": [
    "from selenium import webdriver\n",
    "from selenium.webdriver.common.keys import Keys"
   ]
  },
  {
   "cell_type": "markdown",
   "metadata": {},
   "source": [
    "## Use selenium to scrape runner data"
   ]
  },
  {
   "cell_type": "markdown",
   "metadata": {},
   "source": [
    "First, define functions that will be used"
   ]
  },
  {
   "cell_type": "code",
   "execution_count": null,
   "metadata": {
    "collapsed": true
   },
   "outputs": [],
   "source": [
    "# Function to choose year, number of records per page, event, and sex\n",
    "def select_year(year, num, sex):\n",
    "    global sex2\n",
    "    sex2 = sex\n",
    "    \n",
    "    year_dropdown = driver.find_element_by_id('list_event_main_group')\n",
    "    year_dropdown.send_keys(year)\n",
    "\n",
    "    event_dropdown = driver.find_element_by_id('list_event')\n",
    "    event_dropdown.send_keys('999999107FA309000000008D')\n",
    "    \n",
    "    number_dropdown = driver.find_element_by_id('fe-lists-new-num-results')\n",
    "    number_dropdown.send_keys(str(num))\n",
    "\n",
    "    gender_dropdown = driver.find_element_by_id('list_search-sex')\n",
    "    gender_dropdown.send_keys(sex)\n",
    "    \n",
    "    year_dropdown.send_keys(Keys.RETURN)"
   ]
  },
  {
   "cell_type": "code",
   "execution_count": null,
   "metadata": {
    "collapsed": true
   },
   "outputs": [],
   "source": [
    "# Function to scrape a list of runners on one page\n",
    "def scrape_runners(num):    \n",
    "    for i in range (6, (num+6)):  \n",
    "        elems = driver.find_elements_by_xpath(\"//a[@href]\")\n",
    "        elems[i].click()\n",
    "        search = driver.find_elements_by_xpath('//table[@class=\"list-table names\"]')\n",
    "        splits = [search[0].text.split('\\n'), search[2].text.split('\\n'), search[3].text.split('\\n')]\n",
    "        runners.append(splits)\n",
    "        driver.back()\n",
    "    return runners"
   ]
  },
  {
   "cell_type": "code",
   "execution_count": null,
   "metadata": {
    "collapsed": true
   },
   "outputs": [],
   "source": [
    "# Function to clean data from one search\n",
    "def clean_runners():\n",
    "    '''\n",
    "    1) Extract each runner's time, country, age group, and bib number\n",
    "    '''\n",
    "    \n",
    "    for i in range(len(runners)):\n",
    "        features = []\n",
    "\n",
    "        timelist = runners[i][1][-1].split(' ')\n",
    "        time = timelist[-1]\n",
    "\n",
    "        countrylist = runners[i][0][0].split(' ')\n",
    "        country = countrylist[-1]\n",
    "\n",
    "        agelist = runners[i][0][1].split(' ')\n",
    "        age = agelist[-1]\n",
    "\n",
    "        biblist = runners[i][0][2].split(' ')\n",
    "        bib = biblist[-1]\n",
    "\n",
    "        features.extend((country, age, bib, time))\n",
    "        runners[i].extend([features])\n",
    "\n",
    "    '''\n",
    "    2) Convert each runner's list of splits into an array of split times, converted into seconds\n",
    "    '''\n",
    "        \n",
    "    for i in range(len(runners)):\n",
    "        try:\n",
    "            split_times = [x.split()[3] for x in runners[i][2]]\n",
    "            split_times.remove('Day')\n",
    "            int_times = [list(map(int, i.split(\":\"))) for i in split_times]\n",
    "            split_seconds = [(a*60 + b) for a, b in int_times]\n",
    "            split_seconds[4:6] = [reduce(lambda x, y: x + y, split_seconds[4:6])]\n",
    "            del split_seconds[-1]\n",
    "            runners[i].extend([split_seconds])\n",
    "        except:\n",
    "            print (runners[i][0])\n",
    "            continue"
   ]
  },
  {
   "cell_type": "code",
   "execution_count": null,
   "metadata": {
    "collapsed": true
   },
   "outputs": [],
   "source": [
    "# Function to search multiple pages\n",
    "def multiple_pages(pages, runners):\n",
    "    page_count = 0\n",
    "    \n",
    "    while page_count < pages:\n",
    "        scrape_runners(runners)\n",
    "        page_count += 1\n",
    "        search = driver.find_elements_by_xpath('//a[@class=\"pages-nav-button\"]')\n",
    "        search[-1].click()\n",
    "    \n",
    "    if page_count == pages:\n",
    "        clean_runners()"
   ]
  },
  {
   "cell_type": "markdown",
   "metadata": {},
   "source": [
    "### Run functions to collect data"
   ]
  },
  {
   "cell_type": "code",
   "execution_count": null,
   "metadata": {
    "collapsed": true
   },
   "outputs": [],
   "source": [
    "chromedriver = \"/Applications/chromedriver\"\n",
    "driver = webdriver.Chrome(chromedriver)\n",
    "driver.get('http://chicago-history.r.mikatiming.de/2015/')"
   ]
  },
  {
   "cell_type": "code",
   "execution_count": null,
   "metadata": {
    "collapsed": true
   },
   "outputs": [],
   "source": [
    "select_year(2016, 500, 'Women')"
   ]
  },
  {
   "cell_type": "code",
   "execution_count": null,
   "metadata": {
    "collapsed": true
   },
   "outputs": [],
   "source": [
    "runners = []"
   ]
  },
  {
   "cell_type": "code",
   "execution_count": null,
   "metadata": {
    "collapsed": true
   },
   "outputs": [],
   "source": [
    "multiple_pages(2, 500)"
   ]
  },
  {
   "cell_type": "code",
   "execution_count": null,
   "metadata": {
    "collapsed": true
   },
   "outputs": [],
   "source": [
    "len(runners)"
   ]
  },
  {
   "cell_type": "code",
   "execution_count": null,
   "metadata": {
    "collapsed": true
   },
   "outputs": [],
   "source": [
    "runners[0]"
   ]
  },
  {
   "cell_type": "markdown",
   "metadata": {},
   "source": [
    "**Commands to use on an \"as needed\" basis**"
   ]
  },
  {
   "cell_type": "code",
   "execution_count": null,
   "metadata": {
    "collapsed": true
   },
   "outputs": [],
   "source": [
    "### Search for a specific range within one page\n",
    "for i in range (410, 506):  \n",
    "    elems = driver.find_elements_by_xpath(\"//a[@href]\")\n",
    "    elems[i].click()\n",
    "    search = driver.find_elements_by_xpath('//table[@class=\"list-table names\"]')\n",
    "    splits = [search[0].text.split('\\n'), search[2].text.split('\\n'), search[3].text.split('\\n')]\n",
    "    runners.append(splits)\n",
    "    driver.back()"
   ]
  },
  {
   "cell_type": "code",
   "execution_count": null,
   "metadata": {
    "collapsed": true
   },
   "outputs": [],
   "source": [
    "### Clean runners from a small search (normally built into 'multiple_pages' - only used here for within-page searches)\n",
    "clean_runners()"
   ]
  },
  {
   "cell_type": "code",
   "execution_count": null,
   "metadata": {
    "collapsed": true
   },
   "outputs": [],
   "source": [
    "### Click to move to the next page\n",
    "search = driver.find_elements_by_xpath('//a[@class=\"pages-nav-button\"]')\n",
    "search[-1].click()"
   ]
  },
  {
   "cell_type": "markdown",
   "metadata": {},
   "source": [
    "### Clean up and save data collected so far"
   ]
  },
  {
   "cell_type": "markdown",
   "metadata": {},
   "source": [
    "Lists are a little cluttered - drop what is unnecessary, convert to a dataframe, and pickle it"
   ]
  },
  {
   "cell_type": "code",
   "execution_count": null,
   "metadata": {
    "collapsed": true
   },
   "outputs": [],
   "source": [
    "df_list = [i[-2:] for i in runners]\n",
    "df_list_merged = [a + b for a,b in df_list]"
   ]
  },
  {
   "cell_type": "code",
   "execution_count": null,
   "metadata": {
    "collapsed": true
   },
   "outputs": [],
   "source": [
    "# Need to create extra columns due to messy data\n",
    "columns = ['country', 'age_group', 'bib', 'finaltime', '5K', '10K', '15K', '20K', \n",
    "          '25K', '30K', '35K', '40K', 'foo', 'bar', 'foobar']"
   ]
  },
  {
   "cell_type": "code",
   "execution_count": null,
   "metadata": {
    "collapsed": true
   },
   "outputs": [],
   "source": [
    "df = pd.DataFrame(df_list_merged, columns = columns)"
   ]
  },
  {
   "cell_type": "code",
   "execution_count": null,
   "metadata": {
    "collapsed": true
   },
   "outputs": [],
   "source": [
    "df.head()"
   ]
  },
  {
   "cell_type": "code",
   "execution_count": null,
   "metadata": {
    "collapsed": true
   },
   "outputs": [],
   "source": [
    "# For each search, adjust the name to fit search criteria (year, sex, & record numbers)\n",
    "file = 'marathon df_14000-15000_2016_women'\n",
    "fileobj = open(file,'wb') \n",
    "pickle.dump(df,fileobj) "
   ]
  }
 ],
 "metadata": {
  "kernelspec": {
   "display_name": "Python 3",
   "language": "python",
   "name": "python3"
  },
  "language_info": {
   "codemirror_mode": {
    "name": "ipython",
    "version": 3
   },
   "file_extension": ".py",
   "mimetype": "text/x-python",
   "name": "python",
   "nbconvert_exporter": "python",
   "pygments_lexer": "ipython3",
   "version": "3.6.0"
  }
 },
 "nbformat": 4,
 "nbformat_minor": 2
}
